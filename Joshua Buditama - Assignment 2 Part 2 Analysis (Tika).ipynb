{
 "cells": [
  {
   "cell_type": "markdown",
   "metadata": {},
   "source": [
    "\n"
   ]
  },
  {
   "cell_type": "markdown",
   "metadata": {},
   "source": [
    "# Load libraries"
   ]
  },
  {
   "cell_type": "code",
   "execution_count": 1,
   "metadata": {},
   "outputs": [
    {
     "name": "stderr",
     "output_type": "stream",
     "text": [
      "In /home/joshuabuditama/.local/lib/python3.6/site-packages/matplotlib/mpl-data/stylelib/_classic_test.mplstyle: \n",
      "The text.latex.preview rcparam was deprecated in Matplotlib 3.3 and will be removed two minor releases later.\n",
      "In /home/joshuabuditama/.local/lib/python3.6/site-packages/matplotlib/mpl-data/stylelib/_classic_test.mplstyle: \n",
      "The mathtext.fallback_to_cm rcparam was deprecated in Matplotlib 3.3 and will be removed two minor releases later.\n",
      "In /home/joshuabuditama/.local/lib/python3.6/site-packages/matplotlib/mpl-data/stylelib/_classic_test.mplstyle: Support for setting the 'mathtext.fallback_to_cm' rcParam is deprecated since 3.3 and will be removed two minor releases later; use 'mathtext.fallback : 'cm' instead.\n",
      "In /home/joshuabuditama/.local/lib/python3.6/site-packages/matplotlib/mpl-data/stylelib/_classic_test.mplstyle: \n",
      "The validate_bool_maybe_none function was deprecated in Matplotlib 3.3 and will be removed two minor releases later.\n",
      "In /home/joshuabuditama/.local/lib/python3.6/site-packages/matplotlib/mpl-data/stylelib/_classic_test.mplstyle: \n",
      "The savefig.jpeg_quality rcparam was deprecated in Matplotlib 3.3 and will be removed two minor releases later.\n",
      "In /home/joshuabuditama/.local/lib/python3.6/site-packages/matplotlib/mpl-data/stylelib/_classic_test.mplstyle: \n",
      "The keymap.all_axes rcparam was deprecated in Matplotlib 3.3 and will be removed two minor releases later.\n",
      "In /home/joshuabuditama/.local/lib/python3.6/site-packages/matplotlib/mpl-data/stylelib/_classic_test.mplstyle: \n",
      "The animation.avconv_path rcparam was deprecated in Matplotlib 3.3 and will be removed two minor releases later.\n",
      "In /home/joshuabuditama/.local/lib/python3.6/site-packages/matplotlib/mpl-data/stylelib/_classic_test.mplstyle: \n",
      "The animation.avconv_args rcparam was deprecated in Matplotlib 3.3 and will be removed two minor releases later.\n"
     ]
    }
   ],
   "source": [
    "import numpy as np\n",
    "import pandas as pd\n",
    "import os\n",
    "\n",
    "# Specify git executable file for GitPython in Jupyter Notebook (In IDE, it can still work without this line.)\n",
    "os.environ[\"GIT_PYTHON_GIT_EXECUTABLE\"] = \"C:\\Program Files\\Git\\cmd\\git.exe\"\n",
    "os.environ[\"GIT_PYTHON_REFRESH\"] = \"quiet\"\n",
    "import git\n",
    "from git import RemoteProgress\n",
    "\n",
    "from git import Repo\n",
    "import matplotlib.pyplot as plt\n",
    "import seaborn as sns\n",
    "%matplotlib inline"
   ]
  },
  {
   "cell_type": "markdown",
   "metadata": {},
   "source": [
    "# Clone the Tika repo from GitHub"
   ]
  },
  {
   "cell_type": "markdown",
   "metadata": {},
   "source": [
    "Link: https://git-scm.com/docs/git-clone <br>\n",
    "<b>Note:</b> In case too-long file path issue occurs in Windows, set <code>git config --system core.longpaths true</code>"
   ]
  },
  {
   "cell_type": "code",
   "execution_count": 2,
   "metadata": {},
   "outputs": [],
   "source": [
    "class Progress(RemoteProgress):\n",
    "    def update(self, op_code, cur_count, max_count=None, message=''):\n",
    "        print(self._cur_line)"
   ]
  },
  {
   "cell_type": "code",
   "execution_count": 3,
   "metadata": {},
   "outputs": [],
   "source": [
    "remote_link = \"https://github.com/apache/tika\"\n",
    "local_link = \"repo/tika\"\n",
    "# Cloning the repository\n",
    "# Repo.clone_from(remote_link, local_link, progress=Progress())"
   ]
  },
  {
   "cell_type": "code",
   "execution_count": 4,
   "metadata": {},
   "outputs": [],
   "source": [
    "repo = Repo(local_link)\n",
    "fixing_commit = \"62926cae31a02d4f23d21148435804b96c543cc\"\n",
    "affected_file = \"IptcAnpaParser.java\""
   ]
  },
  {
   "cell_type": "markdown",
   "metadata": {},
   "source": [
    "# Show info of a commit\n",
    "Link: https://git-scm.com/docs/git-show\n",
    "You can explore different parameters."
   ]
  },
  {
   "cell_type": "code",
   "execution_count": 5,
   "metadata": {},
   "outputs": [
    {
     "name": "stdout",
     "output_type": "stream",
     "text": [
      "commit 62926cae31a02d4f23d21148435804b96c543cc7\n",
      "Author: tballison <tallison@mitre.org>\n",
      "Date:   Fri May 25 10:40:47 2018 -0400\n",
      "\n",
      "    fix logic in iptc parser\n"
     ]
    }
   ],
   "source": [
    "show_data = repo.git.show(\"-s\", fixing_commit).splitlines()\n",
    "for line in show_data:\n",
    "    print(line)"
   ]
  },
  {
   "cell_type": "markdown",
   "metadata": {},
   "source": [
    "# Finding the VCC"
   ]
  },
  {
   "cell_type": "code",
   "execution_count": 6,
   "metadata": {
    "scrolled": true
   },
   "outputs": [
    {
     "name": "stdout",
     "output_type": "stream",
     "text": [
      "[\"de70921256 (Nick Burch 2012-04-28 16:53:35 +0000 466)                   if (read > value.length) { break; }  // shouldn't ever hit this, but save a NPE\"]\n",
      "[\"de70921256 (Nick Burch 2012-04-28 16:53:35 +0000 511)                   if (read > value.length) { break; }  // shouldn't ever hit this, but save a NPE\"]\n",
      "[\"de70921256 (Nick Burch 2012-04-28 16:53:35 +0000 578)                   if (read > value.length) { break; }  // shouldn't ever hit this, but save a NPE\"]\n",
      "[\"de70921256 (Nick Burch 2012-04-28 16:53:35 +0000 677)                   if (read > value.length) { break; }  // shouldn't ever hit this, but save a NPE\"]\n",
      "[\"de70921256 (Nick Burch 2012-04-28 16:53:35 +0000 716)             if (read > value.length) { break; }  // shouldn't ever hit this, but save a NPE\"]\n",
      "[\"de70921256 (Nick Burch 2012-04-28 16:53:35 +0000 723)             if (read > value.length) { break; }  // shouldn't ever hit this, but save a NPE\"]\n"
     ]
    }
   ],
   "source": [
    "#Using git blame to find the latest commit that modify line(s) from the affected file\n",
    "blame_data = []\n",
    "affected_file_path = \"tika-parsers/src/main/java/org/apache/tika/parser/iptc/\"+affected_file\n",
    "blame_data.append(repo.git.blame(\"-L466,+1\",fixing_commit + \"^\", \"--\", affected_file_path).splitlines())\n",
    "blame_data.append(repo.git.blame(\"-L511,+1\",fixing_commit + \"^\", \"--\", affected_file_path).splitlines())\n",
    "blame_data.append(repo.git.blame(\"-L578,+1\",fixing_commit + \"^\", \"--\", affected_file_path).splitlines())\n",
    "blame_data.append(repo.git.blame(\"-L677,+1\",fixing_commit + \"^\", \"--\", affected_file_path).splitlines())\n",
    "blame_data.append(repo.git.blame(\"-L716,+1\",fixing_commit + \"^\", \"--\", affected_file_path).splitlines())\n",
    "blame_data.append(repo.git.blame(\"-L723,+1\",fixing_commit + \"^\", \"--\", affected_file_path).splitlines())\n",
    "for line in blame_data:\n",
    "    print(line)"
   ]
  },
  {
   "cell_type": "code",
   "execution_count": 7,
   "metadata": {},
   "outputs": [
    {
     "name": "stdout",
     "output_type": "stream",
     "text": [
      "[\"de70921256 (Nick Burch 2012-04-28 16:53:35 +0000 466)                   if (read > value.length) { break; }  // shouldn't ever hit this, but save a NPE\"]\n",
      "[\"de70921256 (Nick Burch 2012-04-28 16:53:35 +0000 511)                   if (read > value.length) { break; }  // shouldn't ever hit this, but save a NPE\"]\n",
      "[\"de70921256 (Nick Burch 2012-04-28 16:53:35 +0000 578)                   if (read > value.length) { break; }  // shouldn't ever hit this, but save a NPE\"]\n",
      "[\"de70921256 (Nick Burch 2012-04-28 16:53:35 +0000 677)                   if (read > value.length) { break; }  // shouldn't ever hit this, but save a NPE\"]\n",
      "[\"de70921256 (Nick Burch 2012-04-28 16:53:35 +0000 716)             if (read > value.length) { break; }  // shouldn't ever hit this, but save a NPE\"]\n",
      "[\"de70921256 (Nick Burch 2012-04-28 16:53:35 +0000 723)             if (read > value.length) { break; }  // shouldn't ever hit this, but save a NPE\"]\n"
     ]
    }
   ],
   "source": [
    "#Using git blame with the -M parameter to identify any VCC\n",
    "blame_data = []\n",
    "blame_data.append(repo.git.blame(\"-M\",\"-L466,+1\",fixing_commit + \"^\", \"--\", affected_file_path).splitlines())\n",
    "blame_data.append(repo.git.blame(\"-M\",\"-L511,+1\",fixing_commit + \"^\", \"--\", affected_file_path).splitlines())\n",
    "blame_data.append(repo.git.blame(\"-M\",\"-L578,+1\",fixing_commit + \"^\", \"--\", affected_file_path).splitlines())\n",
    "blame_data.append(repo.git.blame(\"-M\",\"-L677,+1\",fixing_commit + \"^\", \"--\", affected_file_path).splitlines())\n",
    "blame_data.append(repo.git.blame(\"-M\",\"-L716,+1\",fixing_commit + \"^\", \"--\", affected_file_path).splitlines())\n",
    "blame_data.append(repo.git.blame(\"-M\",\"-L723,+1\",fixing_commit + \"^\", \"--\", affected_file_path).splitlines())\n",
    "for line in blame_data:\n",
    "    print(line)"
   ]
  },
  {
   "cell_type": "code",
   "execution_count": 8,
   "metadata": {},
   "outputs": [
    {
     "name": "stdout",
     "output_type": "stream",
     "text": [
      "[\"de70921256 (Nick Burch 2012-04-28 16:53:35 +0000 466)                   if (read > value.length) { break; }  // shouldn't ever hit this, but save a NPE\"]\n",
      "[\"de70921256 (Nick Burch 2012-04-28 16:53:35 +0000 511)                   if (read > value.length) { break; }  // shouldn't ever hit this, but save a NPE\"]\n",
      "[\"de70921256 (Nick Burch 2012-04-28 16:53:35 +0000 578)                   if (read > value.length) { break; }  // shouldn't ever hit this, but save a NPE\"]\n",
      "[\"de70921256 (Nick Burch 2012-04-28 16:53:35 +0000 677)                   if (read > value.length) { break; }  // shouldn't ever hit this, but save a NPE\"]\n",
      "[\"de70921256 (Nick Burch 2012-04-28 16:53:35 +0000 716)             if (read > value.length) { break; }  // shouldn't ever hit this, but save a NPE\"]\n",
      "[\"de70921256 (Nick Burch 2012-04-28 16:53:35 +0000 723)             if (read > value.length) { break; }  // shouldn't ever hit this, but save a NPE\"]\n"
     ]
    }
   ],
   "source": [
    "#Using git blame with the -w parameter to identify any VCC\n",
    "blame_data = []\n",
    "blame_data.append(repo.git.blame(\"-w\",\"-L466,+1\",fixing_commit + \"^\", \"--\", affected_file_path).splitlines())\n",
    "blame_data.append(repo.git.blame(\"-w\",\"-L511,+1\",fixing_commit + \"^\", \"--\", affected_file_path).splitlines())\n",
    "blame_data.append(repo.git.blame(\"-w\",\"-L578,+1\",fixing_commit + \"^\", \"--\", affected_file_path).splitlines())\n",
    "blame_data.append(repo.git.blame(\"-w\",\"-L677,+1\",fixing_commit + \"^\", \"--\", affected_file_path).splitlines())\n",
    "blame_data.append(repo.git.blame(\"-w\",\"-L716,+1\",fixing_commit + \"^\", \"--\", affected_file_path).splitlines())\n",
    "blame_data.append(repo.git.blame(\"-w\",\"-L723,+1\",fixing_commit + \"^\", \"--\", affected_file_path).splitlines())\n",
    "for line in blame_data:\n",
    "    print(line)"
   ]
  },
  {
   "cell_type": "code",
   "execution_count": 9,
   "metadata": {},
   "outputs": [
    {
     "name": "stdout",
     "output_type": "stream",
     "text": [
      "[\"de70921256 (Nick Burch 2012-04-28 16:53:35 +0000 466)                   if (read > value.length) { break; }  // shouldn't ever hit this, but save a NPE\"]\n",
      "[\"de70921256 (Nick Burch 2012-04-28 16:53:35 +0000 511)                   if (read > value.length) { break; }  // shouldn't ever hit this, but save a NPE\"]\n",
      "[\"de70921256 (Nick Burch 2012-04-28 16:53:35 +0000 578)                   if (read > value.length) { break; }  // shouldn't ever hit this, but save a NPE\"]\n",
      "[\"de70921256 (Nick Burch 2012-04-28 16:53:35 +0000 677)                   if (read > value.length) { break; }  // shouldn't ever hit this, but save a NPE\"]\n",
      "[\"de70921256 (Nick Burch 2012-04-28 16:53:35 +0000 716)             if (read > value.length) { break; }  // shouldn't ever hit this, but save a NPE\"]\n",
      "[\"de70921256 (Nick Burch 2012-04-28 16:53:35 +0000 723)             if (read > value.length) { break; }  // shouldn't ever hit this, but save a NPE\"]\n"
     ]
    }
   ],
   "source": [
    "#Using git blame with the -wC parameter to identify any VCC\n",
    "blame_data = []\n",
    "blame_data.append(repo.git.blame(\"-wC\",\"-L466,+1\",fixing_commit + \"^\", \"--\", affected_file_path).splitlines())\n",
    "blame_data.append(repo.git.blame(\"-wC\",\"-L511,+1\",fixing_commit + \"^\", \"--\", affected_file_path).splitlines())\n",
    "blame_data.append(repo.git.blame(\"-wC\",\"-L578,+1\",fixing_commit + \"^\", \"--\", affected_file_path).splitlines())\n",
    "blame_data.append(repo.git.blame(\"-wC\",\"-L677,+1\",fixing_commit + \"^\", \"--\", affected_file_path).splitlines())\n",
    "blame_data.append(repo.git.blame(\"-wC\",\"-L716,+1\",fixing_commit + \"^\", \"--\", affected_file_path).splitlines())\n",
    "blame_data.append(repo.git.blame(\"-wC\",\"-L723,+1\",fixing_commit + \"^\", \"--\", affected_file_path).splitlines())\n",
    "for line in blame_data:\n",
    "    print(line)"
   ]
  },
  {
   "cell_type": "code",
   "execution_count": 10,
   "metadata": {},
   "outputs": [
    {
     "name": "stdout",
     "output_type": "stream",
     "text": [
      "[\"de70921256 (Nick Burch 2012-04-28 16:53:35 +0000 466)                   if (read > value.length) { break; }  // shouldn't ever hit this, but save a NPE\"]\n",
      "[\"de70921256 (Nick Burch 2012-04-28 16:53:35 +0000 511)                   if (read > value.length) { break; }  // shouldn't ever hit this, but save a NPE\"]\n",
      "[\"de70921256 (Nick Burch 2012-04-28 16:53:35 +0000 578)                   if (read > value.length) { break; }  // shouldn't ever hit this, but save a NPE\"]\n",
      "[\"de70921256 (Nick Burch 2012-04-28 16:53:35 +0000 677)                   if (read > value.length) { break; }  // shouldn't ever hit this, but save a NPE\"]\n",
      "[\"de70921256 (Nick Burch 2012-04-28 16:53:35 +0000 716)             if (read > value.length) { break; }  // shouldn't ever hit this, but save a NPE\"]\n",
      "[\"de70921256 (Nick Burch 2012-04-28 16:53:35 +0000 723)             if (read > value.length) { break; }  // shouldn't ever hit this, but save a NPE\"]\n"
     ]
    }
   ],
   "source": [
    "#Using git blame with the -wCC parameter to identify any VCC\n",
    "blame_data = []\n",
    "blame_data.append(repo.git.blame(\"-wCC\",\"-L466,+1\",fixing_commit + \"^\", \"--\", affected_file_path).splitlines())\n",
    "blame_data.append(repo.git.blame(\"-wCC\",\"-L511,+1\",fixing_commit + \"^\", \"--\", affected_file_path).splitlines())\n",
    "blame_data.append(repo.git.blame(\"-wCC\",\"-L578,+1\",fixing_commit + \"^\", \"--\", affected_file_path).splitlines())\n",
    "blame_data.append(repo.git.blame(\"-wCC\",\"-L677,+1\",fixing_commit + \"^\", \"--\", affected_file_path).splitlines())\n",
    "blame_data.append(repo.git.blame(\"-wCC\",\"-L716,+1\",fixing_commit + \"^\", \"--\", affected_file_path).splitlines())\n",
    "blame_data.append(repo.git.blame(\"-wCC\",\"-L723,+1\",fixing_commit + \"^\", \"--\", affected_file_path).splitlines())\n",
    "for line in blame_data:\n",
    "    print(line)"
   ]
  },
  {
   "cell_type": "code",
   "execution_count": 11,
   "metadata": {},
   "outputs": [
    {
     "name": "stdout",
     "output_type": "stream",
     "text": [
      "[\"de70921256 (Nick Burch 2012-04-28 16:53:35 +0000 466)                   if (read > value.length) { break; }  // shouldn't ever hit this, but save a NPE\"]\n",
      "[\"de70921256 (Nick Burch 2012-04-28 16:53:35 +0000 511)                   if (read > value.length) { break; }  // shouldn't ever hit this, but save a NPE\"]\n",
      "[\"de70921256 (Nick Burch 2012-04-28 16:53:35 +0000 578)                   if (read > value.length) { break; }  // shouldn't ever hit this, but save a NPE\"]\n",
      "[\"de70921256 (Nick Burch 2012-04-28 16:53:35 +0000 677)                   if (read > value.length) { break; }  // shouldn't ever hit this, but save a NPE\"]\n",
      "[\"de70921256 (Nick Burch 2012-04-28 16:53:35 +0000 716)             if (read > value.length) { break; }  // shouldn't ever hit this, but save a NPE\"]\n",
      "[\"de70921256 (Nick Burch 2012-04-28 16:53:35 +0000 723)             if (read > value.length) { break; }  // shouldn't ever hit this, but save a NPE\"]\n"
     ]
    }
   ],
   "source": [
    "#Using git blame with the -wCCC parameter to identify any VCC\n",
    "blame_data = []\n",
    "blame_data.append(repo.git.blame(\"-wCCC\",\"-L466,+1\",fixing_commit + \"^\", \"--\", affected_file_path).splitlines())\n",
    "blame_data.append(repo.git.blame(\"-wCCC\",\"-L511,+1\",fixing_commit + \"^\", \"--\", affected_file_path).splitlines())\n",
    "blame_data.append(repo.git.blame(\"-wCCC\",\"-L578,+1\",fixing_commit + \"^\", \"--\", affected_file_path).splitlines())\n",
    "blame_data.append(repo.git.blame(\"-wCCC\",\"-L677,+1\",fixing_commit + \"^\", \"--\", affected_file_path).splitlines())\n",
    "blame_data.append(repo.git.blame(\"-wCCC\",\"-L716,+1\",fixing_commit + \"^\", \"--\", affected_file_path).splitlines())\n",
    "blame_data.append(repo.git.blame(\"-wCCC\",\"-L723,+1\",fixing_commit + \"^\", \"--\", affected_file_path).splitlines())\n",
    "for line in blame_data:\n",
    "    print(line)"
   ]
  },
  {
   "cell_type": "markdown",
   "metadata": {},
   "source": [
    "# VCC Analysis"
   ]
  },
  {
   "cell_type": "code",
   "execution_count": 12,
   "metadata": {},
   "outputs": [
    {
     "name": "stdout",
     "output_type": "stream",
     "text": [
      "commit de7092125649cd61840e27b1f70d68cfab910d89\n",
      "Author: Nick Burch <nick@apache.org>\n",
      "Date:   Sat Apr 28 16:53:35 2012 +0000\n",
      "\n",
      "    TIKA-858 Patch from Craig Stires to add support for parsing IPTC ANPA News Wire Feeds\n",
      "    \n",
      "    git-svn-id: https://svn.apache.org/repos/asf/tika/trunk@1331794 13f79535-47bb-0310-9956-ffa450edef68\n"
     ]
    }
   ],
   "source": [
    "# Getting the details of the VCC (Note: the -s parameter \"surpressed\" the output from git diff that comes with git show)\n",
    "vcc = \"de70921256\"\n",
    "show_data = repo.git.show(\"-s\",vcc).splitlines()\n",
    "for line in show_data:\n",
    "    print(line)"
   ]
  },
  {
   "cell_type": "code",
   "execution_count": 13,
   "metadata": {},
   "outputs": [
    {
     "name": "stdout",
     "output_type": "stream",
     "text": [
      "commit de7092125649cd61840e27b1f70d68cfab910d89\n",
      "Author: Nick Burch <nick@apache.org>\n",
      "Date:   Sat Apr 28 16:53:35 2012 +0000\n",
      "\n",
      "    TIKA-858 Patch from Craig Stires to add support for parsing IPTC ANPA News Wire Feeds\n",
      "    \n",
      "    git-svn-id: https://svn.apache.org/repos/asf/tika/trunk@1331794 13f79535-47bb-0310-9956-ffa450edef68\n",
      "\n",
      "tika-core/src/main/resources/org/apache/tika/mime/tika-mimetypes.xml\n",
      "tika-parsers/src/main/java/org/apache/tika/parser/iptc/IptcAnpaParser.java\n",
      "tika-parsers/src/main/resources/META-INF/services/org.apache.tika.parser.Parser\n"
     ]
    }
   ],
   "source": [
    "# Getting the details of files changed by the VCC\n",
    "show_data = repo.git.show(\"--name-only\",vcc).splitlines()\n",
    "for line in show_data:\n",
    "    print(line)"
   ]
  },
  {
   "cell_type": "code",
   "execution_count": 14,
   "metadata": {},
   "outputs": [
    {
     "name": "stdout",
     "output_type": "stream",
     "text": [
      "commit de7092125649cd61840e27b1f70d68cfab910d89\n",
      "Author: Nick Burch <nick@apache.org>\n",
      "Date:   Sat Apr 28 16:53:35 2012 +0000\n",
      "\n",
      "    TIKA-858 Patch from Craig Stires to add support for parsing IPTC ANPA News Wire Feeds\n",
      "    \n",
      "    git-svn-id: https://svn.apache.org/repos/asf/tika/trunk@1331794 13f79535-47bb-0310-9956-ffa450edef68\n",
      "\n",
      " .../org/apache/tika/mime/tika-mimetypes.xml        |   8 +\n",
      " .../tika/parser/iptc/IptcAnpaParser.java (new)     | 821 +++++++++++++++++++++\n",
      " .../services/org.apache.tika.parser.Parser         |   1 +\n",
      " 3 files changed, 830 insertions(+)\n"
     ]
    }
   ],
   "source": [
    "# Getting the number of lines modified by the VCC\n",
    "show_data = repo.git.show(\"--compact-summary\",vcc).splitlines()\n",
    "for line in show_data:\n",
    "    print(line)"
   ]
  },
  {
   "cell_type": "code",
   "execution_count": 15,
   "metadata": {},
   "outputs": [
    {
     "name": "stdout",
     "output_type": "stream",
     "text": [
      "commit de7092125649cd61840e27b1f70d68cfab910d89\n",
      "Author: Nick Burch <nick@apache.org>\n",
      "Date:   Sat Apr 28 16:53:35 2012 +0000\n",
      "\n",
      "    TIKA-858 Patch from Craig Stires to add support for parsing IPTC ANPA News Wire Feeds\n",
      "    \n",
      "    git-svn-id: https://svn.apache.org/repos/asf/tika/trunk@1331794 13f79535-47bb-0310-9956-ffa450edef68\n",
      "\n",
      " .../org/apache/tika/mime/tika-mimetypes.xml        |   8 +\n",
      " .../tika/parser/iptc/IptcAnpaParser.java (new)     | 821 +++++++++++++++++++++\n",
      " .../services/org.apache.tika.parser.Parser         |   1 +\n",
      " 3 files changed, 830 insertions(+)\n"
     ]
    }
   ],
   "source": [
    "# Getting the number of lines modified by the VCC without comments and blank lines\n",
    "show_data = repo.git.show(\"--compact-summary\",\"--ignore-blank-lines\",\"-G(^[^\\* /])|(^\\s+[^ \\*#/])\",vcc).splitlines()\n",
    "for line in show_data:\n",
    "    print(line)"
   ]
  },
  {
   "cell_type": "code",
   "execution_count": 16,
   "metadata": {},
   "outputs": [
    {
     "name": "stdout",
     "output_type": "stream",
     "text": [
      "commit de7092125649cd61840e27b1f70d68cfab910d89\n",
      "Author: Nick Burch <nick@apache.org>\n",
      "Date:   Sat Apr 28 16:53:35 2012 +0000\n",
      "\n",
      "    TIKA-858 Patch from Craig Stires to add support for parsing IPTC ANPA News Wire Feeds\n",
      "    \n",
      "    git-svn-id: https://svn.apache.org/repos/asf/tika/trunk@1331794 13f79535-47bb-0310-9956-ffa450edef68\n"
     ]
    }
   ],
   "source": [
    "# Finding the number of days between the current VCC and previous commit of each affected file\n",
    "log_data = repo.git.log(vcc,\"--\", \"tika-parsers/src/main/java/org/apache/tika/parser/iptc/\"+affected_file).splitlines()\n",
    "for line in log_data:\n",
    "    print(line)"
   ]
  },
  {
   "cell_type": "code",
   "execution_count": 17,
   "metadata": {},
   "outputs": [],
   "source": [
    "# Finding the people who have modified the affected file since its creation\n",
    "commit_authors = repo.git.shortlog(\"HEAD\",\"-sne\", \"--\",\"tika-parsers/src/main/java/org/apache/tika/parser/iptc/\"+affected_file).splitlines()\n",
    "   \n",
    "author_commits = []\n",
    "\n",
    "for commit_author in commit_authors:\n",
    "    commit, author = commit_author.split(\"\\t\")\n",
    "    author_commits.append([int(commit), author])"
   ]
  },
  {
   "cell_type": "code",
   "execution_count": 18,
   "metadata": {},
   "outputs": [],
   "source": [
    "df = pd.DataFrame(author_commits, columns=['Commit', 'Author'])"
   ]
  },
  {
   "cell_type": "code",
   "execution_count": 19,
   "metadata": {},
   "outputs": [
    {
     "data": {
      "text/html": [
       "<div>\n",
       "<style scoped>\n",
       "    .dataframe tbody tr th:only-of-type {\n",
       "        vertical-align: middle;\n",
       "    }\n",
       "\n",
       "    .dataframe tbody tr th {\n",
       "        vertical-align: top;\n",
       "    }\n",
       "\n",
       "    .dataframe thead th {\n",
       "        text-align: right;\n",
       "    }\n",
       "</style>\n",
       "<table border=\"1\" class=\"dataframe\">\n",
       "  <thead>\n",
       "    <tr style=\"text-align: right;\">\n",
       "      <th></th>\n",
       "      <th>Commit</th>\n",
       "      <th>Author</th>\n",
       "    </tr>\n",
       "  </thead>\n",
       "  <tbody>\n",
       "    <tr>\n",
       "      <th>0</th>\n",
       "      <td>10</td>\n",
       "      <td>Nick Burch &lt;nick@apache.org&gt;</td>\n",
       "    </tr>\n",
       "    <tr>\n",
       "      <th>1</th>\n",
       "      <td>3</td>\n",
       "      <td>Tyler Palsulich &lt;tpalsulich@apache.org&gt;</td>\n",
       "    </tr>\n",
       "    <tr>\n",
       "      <th>2</th>\n",
       "      <td>2</td>\n",
       "      <td>Tim Allison &lt;tallison@apache.org&gt;</td>\n",
       "    </tr>\n",
       "    <tr>\n",
       "      <th>3</th>\n",
       "      <td>2</td>\n",
       "      <td>tballison &lt;tallison@mitre.org&gt;</td>\n",
       "    </tr>\n",
       "    <tr>\n",
       "      <th>4</th>\n",
       "      <td>1</td>\n",
       "      <td>Ray Gauss II &lt;rgauss@apache.org&gt;</td>\n",
       "    </tr>\n",
       "  </tbody>\n",
       "</table>\n",
       "</div>"
      ],
      "text/plain": [
       "   Commit                                   Author\n",
       "0      10             Nick Burch <nick@apache.org>\n",
       "1       3  Tyler Palsulich <tpalsulich@apache.org>\n",
       "2       2        Tim Allison <tallison@apache.org>\n",
       "3       2           tballison <tallison@mitre.org>\n",
       "4       1         Ray Gauss II <rgauss@apache.org>"
      ]
     },
     "execution_count": 19,
     "metadata": {},
     "output_type": "execute_result"
    }
   ],
   "source": [
    "df.head()"
   ]
  },
  {
   "cell_type": "code",
   "execution_count": 20,
   "metadata": {},
   "outputs": [],
   "source": [
    "# Finding the number of commits that the repository contributors have made across all branches of the reposistory\n",
    "commit_authors = repo.git.shortlog(\"-sne\", \"--all\").splitlines()   \n",
    "author_commits = []\n",
    "\n",
    "for commit_author in commit_authors:\n",
    "    commit, author = commit_author.split(\"\\t\")\n",
    "    author_commits.append([int(commit), author])"
   ]
  },
  {
   "cell_type": "code",
   "execution_count": 21,
   "metadata": {},
   "outputs": [],
   "source": [
    "df = pd.DataFrame(author_commits, columns=['Commit', 'Author'])"
   ]
  },
  {
   "cell_type": "code",
   "execution_count": 22,
   "metadata": {},
   "outputs": [
    {
     "data": {
      "text/html": [
       "<div>\n",
       "<style scoped>\n",
       "    .dataframe tbody tr th:only-of-type {\n",
       "        vertical-align: middle;\n",
       "    }\n",
       "\n",
       "    .dataframe tbody tr th {\n",
       "        vertical-align: top;\n",
       "    }\n",
       "\n",
       "    .dataframe thead th {\n",
       "        text-align: right;\n",
       "    }\n",
       "</style>\n",
       "<table border=\"1\" class=\"dataframe\">\n",
       "  <thead>\n",
       "    <tr style=\"text-align: right;\">\n",
       "      <th></th>\n",
       "      <th>Commit</th>\n",
       "      <th>Author</th>\n",
       "    </tr>\n",
       "  </thead>\n",
       "  <tbody>\n",
       "    <tr>\n",
       "      <th>0</th>\n",
       "      <td>1114</td>\n",
       "      <td>tballison &lt;tallison@mitre.org&gt;</td>\n",
       "    </tr>\n",
       "    <tr>\n",
       "      <th>1</th>\n",
       "      <td>972</td>\n",
       "      <td>Jukka Zitting &lt;jukka@apache.org&gt;</td>\n",
       "    </tr>\n",
       "    <tr>\n",
       "      <th>2</th>\n",
       "      <td>732</td>\n",
       "      <td>Nick Burch &lt;nick@apache.org&gt;</td>\n",
       "    </tr>\n",
       "    <tr>\n",
       "      <th>3</th>\n",
       "      <td>517</td>\n",
       "      <td>TALLISON &lt;tallison@apache.org&gt;</td>\n",
       "    </tr>\n",
       "    <tr>\n",
       "      <th>4</th>\n",
       "      <td>509</td>\n",
       "      <td>Chris Mattmann &lt;mattmann@apache.org&gt;</td>\n",
       "    </tr>\n",
       "  </tbody>\n",
       "</table>\n",
       "</div>"
      ],
      "text/plain": [
       "   Commit                                Author\n",
       "0    1114        tballison <tallison@mitre.org>\n",
       "1     972      Jukka Zitting <jukka@apache.org>\n",
       "2     732          Nick Burch <nick@apache.org>\n",
       "3     517        TALLISON <tallison@apache.org>\n",
       "4     509  Chris Mattmann <mattmann@apache.org>"
      ]
     },
     "execution_count": 22,
     "metadata": {},
     "output_type": "execute_result"
    }
   ],
   "source": [
    "df.head()"
   ]
  },
  {
   "cell_type": "code",
   "execution_count": null,
   "metadata": {},
   "outputs": [],
   "source": []
  }
 ],
 "metadata": {
  "kernelspec": {
   "display_name": "Python 3",
   "language": "python",
   "name": "python3"
  },
  "language_info": {
   "codemirror_mode": {
    "name": "ipython",
    "version": 3
   },
   "file_extension": ".py",
   "mimetype": "text/x-python",
   "name": "python",
   "nbconvert_exporter": "python",
   "pygments_lexer": "ipython3",
   "version": "3.6.8"
  }
 },
 "nbformat": 4,
 "nbformat_minor": 2
}
